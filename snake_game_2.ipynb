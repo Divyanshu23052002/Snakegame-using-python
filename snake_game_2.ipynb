{
  "nbformat": 4,
  "nbformat_minor": 0,
  "metadata": {
    "colab": {
      "provenance": []
    },
    "kernelspec": {
      "name": "python3",
      "display_name": "Python 3"
    },
    "language_info": {
      "name": "python"
    }
  },
  "cells": [
    {
      "cell_type": "code",
      "source": [
        "import random\n",
        "import numpy as np\n",
        "import matplotlib.pyplot as plt\n",
        "from IPython.display import clear_output\n",
        "import time\n",
        "\n",
        "# Initialize game settings\n",
        "WIDTH = 20\n",
        "HEIGHT = 10\n",
        "SNAKE_INITIAL_LENGTH = 3\n",
        "SNAKE_INITIAL_POSITION = (4, 4)\n",
        "SNAKE_INITIAL_DIRECTION = (1, 0)\n",
        "FOOD_SYMBOL = '@'\n",
        "SNAKE_SYMBOL = 'O'\n",
        "EMPTY_SYMBOL = ' '\n",
        "\n",
        "class SnakeGame:\n",
        "    def __init__(self):\n",
        "        self.width = WIDTH\n",
        "        self.height = HEIGHT\n",
        "        self.snake = [SNAKE_INITIAL_POSITION]\n",
        "        self.direction = SNAKE_INITIAL_DIRECTION\n",
        "        self.food = self.generate_food()\n",
        "        self.score = 0\n",
        "        self.game_over = False\n",
        "\n",
        "    def generate_food(self):\n",
        "        while True:\n",
        "            food = (random.randint(0, self.width - 1), random.randint(0, self.height - 1))\n",
        "            if food not in self.snake:\n",
        "                return food\n",
        "\n",
        "    def move(self):\n",
        "        new_head = (self.snake[0][0] + self.direction[0], self.snake[0][1] + self.direction[1])\n",
        "\n",
        "        if (\n",
        "            new_head in self.snake or\n",
        "            new_head[0] < 0 or new_head[0] >= self.width or\n",
        "            new_head[1] < 0 or new_head[1] >= self.height\n",
        "        ):\n",
        "            self.game_over = True\n",
        "            return\n",
        "\n",
        "        self.snake.insert(0, new_head)\n",
        "\n",
        "        if new_head == self.food:\n",
        "            self.score += 1\n",
        "            self.food = self.generate_food()\n",
        "        else:\n",
        "            self.snake.pop()\n",
        "\n",
        "    def step(self, action):\n",
        "        if action == 0:  # Up\n",
        "            self.direction = (0, -1)\n",
        "        elif action == 1:  # Down\n",
        "            self.direction = (0, 1)\n",
        "        elif action == 2:  # Left\n",
        "            self.direction = (-1, 0)\n",
        "        elif action == 3:  # Right\n",
        "            self.direction = (1, 0)\n",
        "\n",
        "        self.move()\n",
        "\n",
        "    def render(self):\n",
        "        grid = np.full((self.height, self.width), EMPTY_SYMBOL)\n",
        "        for segment in self.snake:\n",
        "            grid[segment[1], segment[0]] = SNAKE_SYMBOL\n",
        "        grid[self.food[1], self.food[0]] = FOOD_SYMBOL\n",
        "        return grid\n",
        "\n",
        "# Initialize the game\n",
        "game = SnakeGame()\n",
        "\n",
        "# Play the game\n",
        "while not game.game_over:\n",
        "    clear_output(wait=True)\n",
        "    grid = game.render()\n",
        "\n",
        "    for row in grid:\n",
        "        print(' '.join(row))\n",
        "\n",
        "    print(f\"Score: {game.score}\")\n",
        "    game.step(random.randint(0, 3))  # Random action for demonstration\n",
        "    time.sleep(0.5)  # Delay for visualization\n",
        "\n",
        "print(\"Game Over! Final Score:\", game.score)\n"
      ],
      "metadata": {
        "colab": {
          "base_uri": "https://localhost:8080/"
        },
        "id": "KVX_swXkNb4k",
        "outputId": "f4b18ee7-57e0-4899-f546-755a35442ca9"
      },
      "execution_count": null,
      "outputs": [
        {
          "output_type": "stream",
          "name": "stdout",
          "text": [
            "                                       \n",
            "                                       \n",
            "                                       \n",
            "                                       \n",
            "                                       \n",
            "                                       \n",
            "          O                            \n",
            "                                       \n",
            "                  @                    \n",
            "                                       \n",
            "Score: 0\n"
          ]
        }
      ]
    }
  ]
}